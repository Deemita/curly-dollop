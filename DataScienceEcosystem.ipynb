{
 "cells": [
  {
   "cell_type": "markdown",
   "id": "5cec4cbe",
   "metadata": {},
   "source": [
    "#Data Science Tools and Ecosystem\n"
   ]
  },
  {
   "cell_type": "markdown",
   "id": "a56c0298",
   "metadata": {},
   "source": [
    "In this notebook, Data Science Tools and Ecosystem are summarized"
   ]
  },
  {
   "cell_type": "markdown",
   "id": "3bc5d0c2",
   "metadata": {},
   "source": [
    "# name of the languages that are used by data scientists\n",
    "1. Python\n",
    "2. r\n",
    "3. sql\n",
    "4. julia "
   ]
  },
  {
   "cell_type": "markdown",
   "id": "904249c1",
   "metadata": {},
   "source": [
    "## name of the languages that are used by data scientists\n",
    "1. keras\n",
    "2. numpy\n",
    "3. tensorflow"
   ]
  },
  {
   "cell_type": "markdown",
   "id": "7cfcf1dd",
   "metadata": {},
   "source": [
    "## tools for ds\n",
    "|sl no| tools|\n",
    "|-----|---|\n",
    "|1|jupyter notebook|\n",
    "|2|pandas|"
   ]
  },
  {
   "cell_type": "markdown",
   "id": "eac93b1c",
   "metadata": {},
   "source": [
    "### Below are a few examples of evaluating arithmetic expressions in Python\n",
    "3+2\n",
    "2*5"
   ]
  },
  {
   "cell_type": "code",
   "execution_count": 4,
   "id": "631009c3",
   "metadata": {},
   "outputs": [
    {
     "data": {
      "text/plain": [
       "6"
      ]
     },
     "execution_count": 4,
     "metadata": {},
     "output_type": "execute_result"
    }
   ],
   "source": [
    "#multiply & addition\n",
    "3*2\n"
   ]
  },
  {
   "cell_type": "code",
   "execution_count": 7,
   "id": "3e506fca",
   "metadata": {},
   "outputs": [
    {
     "data": {
      "text/plain": [
       "7"
      ]
     },
     "execution_count": 7,
     "metadata": {},
     "output_type": "execute_result"
    }
   ],
   "source": [
    "2+5\n",
    "\n"
   ]
  },
  {
   "cell_type": "code",
   "execution_count": 8,
   "id": "2086647a",
   "metadata": {},
   "outputs": [
    {
     "data": {
      "text/plain": [
       "3.3333333333333335"
      ]
     },
     "execution_count": 8,
     "metadata": {},
     "output_type": "execute_result"
    }
   ],
   "source": [
    "# This will convert 200 minutes to hours by dividing by 60.\n",
    "minutes = 200\n",
    "hours = minutes / 60\n",
    "hours\n"
   ]
  },
  {
   "cell_type": "markdown",
   "id": "fd6f48b3",
   "metadata": {},
   "source": [
    "## Objectives:\n",
    "\n",
    "- List popular languages for Data Science.\n",
    "- Explain the importance of data preprocessing.\n",
    "- Demonstrate basic data visualization techniques.\n"
   ]
  },
  {
   "cell_type": "markdown",
   "id": "b97c3ce2",
   "metadata": {},
   "source": [
    "## Author\n",
    "Debasmita"
   ]
  }
 ],
 "metadata": {
  "kernelspec": {
   "display_name": "Python 3 (ipykernel)",
   "language": "python",
   "name": "python3"
  },
  "language_info": {
   "codemirror_mode": {
    "name": "ipython",
    "version": 3
   },
   "file_extension": ".py",
   "mimetype": "text/x-python",
   "name": "python",
   "nbconvert_exporter": "python",
   "pygments_lexer": "ipython3",
   "version": "3.11.7"
  }
 },
 "nbformat": 4,
 "nbformat_minor": 5
}
